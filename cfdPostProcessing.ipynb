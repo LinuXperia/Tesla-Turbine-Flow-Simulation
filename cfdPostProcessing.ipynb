{
 "cells": [
  {
   "cell_type": "code",
   "execution_count": 31,
   "id": "restricted-shell",
   "metadata": {},
   "outputs": [
    {
     "name": "stdout",
     "output_type": "stream",
     "text": [
      "[0.30463138 0.31167283 0.31869504 0.32571861 0.33274907 0.33976989\n",
      " 0.34678385 0.3538088  0.36083513 0.36785184 0.37487679 0.38190174\n",
      " 0.38891707 0.3959489  0.40296423 0.40998231 0.41700726 0.42402946\n",
      " 0.43105579 0.43806837 0.44508783 0.45207154 0.45914186 0.46618606\n",
      " 0.47318076 0.48021946 0.48720592 0.494268   0.50129295 0.50832615\n",
      " 0.51533736 0.52234581 0.52938314 0.53639709 0.54343992 0.55046487\n",
      " 0.55749807 0.56452165 0.57155073 0.57856606 0.58558551 0.59261734\n",
      " 0.59963954 0.60667137 0.6136812  0.62071303 0.62773798 0.63477668\n",
      " 0.64177689 0.64881284 0.65584192 0.66286962 0.66988907 0.67692365\n",
      " 0.68393898 0.69095981 0.69798613 0.70503308 0.71205254 0.7190005\n",
      " 0.72612169 0.73325387 0.74010423 0.74694635 0.75428474 0.76138393\n",
      " 0.76826178 0.77514101 0.78202849 0.78949611 0.79652107 0.80344016\n",
      " 0.81037026 0.81730448 0.82425795 0.83124991 0.83869278 0.84568612\n",
      " 0.85266158 0.85964529 0.8666345  0.87363471 0.88063766 0.88765024\n",
      " 0.8946697  0.90169602 0.90872098 0.91573493 0.92275576 0.92977796\n",
      " 0.93679742 0.9438155  0.95083908 0.95785716 0.96487798 0.97190156\n",
      " 0.97892102 0.98594322 0.99296405 1.        ] [-6.17174 -6.16385 -6.0498  -5.93724 -5.82614 -5.71819 -5.61432 -5.51374\n",
      " -5.41663 -5.32287 -5.23246 -5.14491 -5.06091 -4.97906 -4.90006 -4.82374\n",
      " -4.75003 -4.67859 -4.60903 -4.54127 -4.47581 -4.41422 -4.35158 -4.29139\n",
      " -4.23229 -4.17764 -4.12407 -4.07121 -4.01978 -3.97    -3.92098 -3.87429\n",
      " -3.82785 -3.7839  -3.74013 -3.69707 -3.6558  -3.61589 -3.57658 -3.53779\n",
      " -3.50063 -3.46379 -3.42878 -3.39346 -3.35974 -3.3264  -3.29407 -3.26191\n",
      " -3.2306  -3.2005  -3.17051 -3.14133 -3.11277 -3.0847  -3.05754 -3.03018\n",
      " -3.00402 -2.97809 -2.95261 -2.92744 -2.90305 -2.87914 -2.85619 -2.83331\n",
      " -2.80899 -2.78573 -2.76386 -2.74182 -2.72022 -2.69685 -2.67517 -2.65374\n",
      " -2.6324  -2.61112 -2.5897  -2.56812 -2.54489 -2.52286 -2.5008  -2.47829\n",
      " -2.45554 -2.43233 -2.40872 -2.38444 -2.35968 -2.33426 -2.30806 -2.28127\n",
      " -2.25359 -2.22504 -2.19567 -2.1654  -2.13404 -2.10137 -2.06692 -2.02943\n",
      " -1.98505 -1.93174 -1.89564 -1.84464]\n"
     ]
    }
   ],
   "source": [
    "import os\n",
    "import numpy as np\n",
    "\n",
    "#testCase\n",
    "baseFolder = \"E:\\\\UoS\\\\UoS Y4\\\\GDP Tesla Turbine\\\\Simulation Code\\\\xyCFD\\\\\"\n",
    "\n",
    "xList, yList = [], []\n",
    "with open(baseFolder + 'VRadGap1', 'r') as f:\n",
    "    for line in f:\n",
    "        line = line.strip()\n",
    "        dataPoints = line.split()\n",
    "        try:\n",
    "            x, y = [float(x) for x in dataPoints]\n",
    "            xList.append(x)\n",
    "            yList.append(y)\n",
    "        except:\n",
    "            pass\n",
    "xList, yList = np.array(xList)/np.amax(xList), np.array(yList)"
   ]
  },
  {
   "cell_type": "code",
   "execution_count": 57,
   "id": "coupled-boutique",
   "metadata": {},
   "outputs": [],
   "source": [
    "def postProcess(*args):\n",
    "    numberFilesRead = len(args)\n",
    "    baseFolder = \"E:\\\\UoS\\\\UoS Y4\\\\GDP Tesla Turbine\\\\Simulation Code\\\\xyCFD\\\\\"\n",
    "    bigX, bigY = [], [] # x y collections\n",
    "    for i in range(len(args)):\n",
    "        fileName = args[i]\n",
    "        xList, yList = [], []\n",
    "        with open(baseFolder + fileName, 'r') as f:\n",
    "            for line in f:\n",
    "                line = line.strip()\n",
    "                dataPoints = line.split()\n",
    "                try:\n",
    "                    x, y = [float(x) for x in dataPoints]\n",
    "                    xList.append(x)\n",
    "                    yList.append(y)\n",
    "                except:\n",
    "                    pass\n",
    "        bigX.append(xList)\n",
    "        bigY.append(yList)\n",
    "    bigX, bigY = np.array(bigX)/np.amax(bigX), np.array(bigY)\n",
    "    aveX, aveY = np.average(bigX,0), np.average(bigY,0)\n",
    "    return bigX, bigY, aveX, aveY\n",
    "    # average Function"
   ]
  },
  {
   "cell_type": "code",
   "execution_count": 58,
   "id": "angry-market",
   "metadata": {},
   "outputs": [],
   "source": [
    "bigX, biY, aveX, aveY = postProcess('VRadGap1', 'VRadGap2','VRadGap3', 'VRadGap4')"
   ]
  },
  {
   "cell_type": "code",
   "execution_count": null,
   "id": "clean-teaching",
   "metadata": {},
   "outputs": [],
   "source": []
  }
 ],
 "metadata": {
  "kernelspec": {
   "display_name": "Python 3",
   "language": "python",
   "name": "python3"
  },
  "language_info": {
   "codemirror_mode": {
    "name": "ipython",
    "version": 3
   },
   "file_extension": ".py",
   "mimetype": "text/x-python",
   "name": "python",
   "nbconvert_exporter": "python",
   "pygments_lexer": "ipython3",
   "version": "3.7.9"
  }
 },
 "nbformat": 4,
 "nbformat_minor": 5
}
