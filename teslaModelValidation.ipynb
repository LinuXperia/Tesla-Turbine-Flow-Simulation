{
 "cells": [
  {
   "cell_type": "code",
   "execution_count": 1,
   "id": "peaceful-mission",
   "metadata": {},
   "outputs": [
    {
     "name": "stdout",
     "output_type": "stream",
     "text": [
      "Using matplotlib backend: Qt5Agg\n"
     ]
    }
   ],
   "source": [
    "import pandas as pd\n",
    "import os\n",
    "from enum import Enum\n",
    "import numpy as np\n",
    "import scipy\n",
    "from numpy import sqrt, sin, cos, tan, pi\n",
    "from scipy.integrate import odeint\n",
    "from scipy.interpolate import InterpolatedUnivariateSpline\n",
    "import matplotlib as mpl\n",
    "import matplotlib.pyplot as plt\n",
    "import matplotlib.ticker as mtick\n",
    "from matplotlib import ticker, cm\n",
    "from matplotlib import ticker\n",
    "from scipy.optimize import minimize\n",
    "from scipy.optimize import Bounds\n",
    "%matplotlib"
   ]
  },
  {
   "cell_type": "code",
   "execution_count": 2,
   "id": "laden-roman",
   "metadata": {},
   "outputs": [],
   "source": [
    "density = 997\n",
    "dynamicViscosity = 0.0008891\n",
    "kinematicViscosity = 8.917*10**-7\n",
    "\n",
    "class flowParameters():\n",
    "    def __init__(self, outerRadius, innerOuterRatio, discSpacing, \\\n",
    "                 relativeTipTangential, relativeTipRadial, reynoldMS, profileN = 2):\n",
    "        self.innerRadius = innerOuterRatio*outerRadius\n",
    "        self.outerRadius = outerRadius\n",
    "        self.innerOuterRatio = innerOuterRatio\n",
    "        self.discSpacing = discSpacing\n",
    "\n",
    "        self.relativeTipRadial = relativeTipRadial\n",
    "        self.relativeTipTangential = relativeTipTangential\n",
    "        self.reynoldMS = reynoldMS\n",
    "        self.Fpo = (profileN + 1)/3\n",
    "\n",
    "        self.omega = (kinematicViscosity/4*discSpacing)*(reynoldMS/relativeTipRadial)\n",
    "        self.tipVelocity = self.omega*outerRadius\n",
    "        self.vRadial = -self.tipVelocity*relativeTipRadial\n",
    "        self.vTheta = self.relativeTipTangential*self.tipVelocity + self.tipVelocity\n",
    "\n",
    "def bothODE(y,x,instance):\n",
    "    y0,y1 = y\n",
    "\n",
    "    nTerm = 3*instance.Fpo - 1 # article definition\n",
    "    Vr0 = instance.vRadial/instance.tipVelocity\n",
    "\n",
    "    firstSolution = -(2*nTerm + 1)/(nTerm + 1) + (8*(2*nTerm + 1)*x/instance.reynoldMS - 1/x)*y0\n",
    "    secondSolution = (4*(nTerm + 1)/(2*nTerm + 1))*(1/x**3)*(Vr0**2 + (y0*x)**2) +\\\n",
    "                    4*y0 + 2*x + 32*(nTerm + 1)*(Vr0**2)/(x*instance.reynoldMS)\n",
    "    return [firstSolution, secondSolution]"
   ]
  },
  {
   "cell_type": "code",
   "execution_count": 16,
   "id": "recognized-google",
   "metadata": {},
   "outputs": [],
   "source": [
    "\"\"\"W0 = 2, Rem* = 10, radius ratio = 0.2, Vro = 0.05\"\"\"\n",
    "testCase1 = flowParameters(0.5, 0.2, 0.0001, 2, 0.05, 10)\n",
    "\n",
    "rs = np.linspace(1, testCase1.innerOuterRatio, 100)\n",
    "sol = odeint(bothODE, [testCase1.relativeTipTangential, 0.0], rs, args=(testCase1,))\n",
    "\n",
    "fig, ax = plt.subplots(2,1, figsize=(7.5,15))\n",
    "\n",
    "ax[0].plot(rs, sol[:,0]+rs, label=\"Flow Absolute\", color='black')\n",
    "ax[0].plot(rs, rs, '--', label=\"Disc\", color='black')\n",
    "ax[0].set_ylim(bottom=0, top=3.5)\n",
    "ax[0].set_xlim(left=0.2, right=1.0)\n",
    "ax[0].set_xlabel(r\"$\\xi$\", fontsize=15)\n",
    "ax[0].set_ylabel(\"$\\^{W}$\", fontsize=15)\n",
    "ax[0].tick_params(axis='x', labelsize=15)\n",
    "ax[0].tick_params(axis='y', labelsize=15)\n",
    "ax[0].legend(fontsize=15, loc=\"upper right\")\n",
    "\n",
    "ax[1].plot(rs, sol[:,1], label=\"\", color='black')\n",
    "ax[1].set_ylim(top=0, bottom=-25)\n",
    "ax[1].set_xlim(left=0.2, right=1.0)\n",
    "ax[1].set_xlabel(r\"$\\xi$\", fontsize=15)\n",
    "ax[1].set_ylabel(\"$\\^{P}$\", fontsize=15)\n",
    "ax[1].tick_params(axis='x', labelsize=15)\n",
    "ax[1].tick_params(axis='y', labelsize=15)\n",
    "\n",
    "ax[0].invert_xaxis()\n",
    "ax[1].invert_xaxis()"
   ]
  },
  {
   "cell_type": "code",
   "execution_count": 17,
   "id": "joint-subcommittee",
   "metadata": {},
   "outputs": [],
   "source": [
    "\"\"\"W0 = 1.1, Rem* = 5, radius ratio = 0.2, Vro = 0.05\"\"\"\n",
    "testCase2 = flowParameters(0.5, 0.2, 0.0001, 1.1, 0.05, 5)\n",
    "\n",
    "rs = np.linspace(1, testCase2.innerOuterRatio, 100)\n",
    "sol = odeint(bothODE, [testCase2.relativeTipTangential, 0.0], rs, args=(testCase2,))\n",
    "\n",
    "fig, ax = plt.subplots(2,1, figsize=(7.5,15))\n",
    "\n",
    "ax[0].plot(rs, sol[:,0]+rs, label=\"Flow Absolute\", color='black')\n",
    "ax[0].plot(rs, rs, '--', label=\"Disc\", color='black')\n",
    "ax[0].set_ylim(bottom=0, top=3.5)\n",
    "ax[0].set_xlim(left=0.2, right=1.0)\n",
    "ax[0].set_xlabel(r\"$\\xi$\", fontsize=15)\n",
    "ax[0].set_ylabel(\"$\\^{W}$\", fontsize=15)\n",
    "ax[0].tick_params(axis='x', labelsize=15)\n",
    "ax[0].tick_params(axis='y', labelsize=15)\n",
    "ax[0].legend(fontsize=15, loc=\"upper right\")\n",
    "\n",
    "ax[1].plot(rs, sol[:,1], label=\"\", color='black')\n",
    "ax[1].set_ylim(top=0, bottom=-6)\n",
    "ax[1].set_xlim(left=0.2, right=1.0)\n",
    "ax[1].set_xlabel(r\"$\\xi$\", fontsize=15)\n",
    "ax[1].set_ylabel(\"$\\^{P}$\", fontsize=15)\n",
    "ax[1].tick_params(axis='x', labelsize=15)\n",
    "ax[1].tick_params(axis='y', labelsize=15)\n",
    "\n",
    "ax[0].invert_xaxis()\n",
    "ax[1].invert_xaxis()"
   ]
  },
  {
   "cell_type": "code",
   "execution_count": 15,
   "id": "rotary-differential",
   "metadata": {},
   "outputs": [
    {
     "data": {
      "text/plain": [
       "<matplotlib.legend.Legend at 0x1e292f42bc8>"
      ]
     },
     "execution_count": 15,
     "metadata": {},
     "output_type": "execute_result"
    }
   ],
   "source": [
    "\"\"\"W0 = 1.1, Rem* = 5, radius ratio = 0.2, Vro = 0.05, profileN = 2, 4, 6\"\"\"\n",
    "nList = [2,5,8]\n",
    "style = ['-', '--', '-.']\n",
    "fig, ax = plt.subplots(figsize=(15,15))\n",
    "for i in range(len(nList)):\n",
    "    \n",
    "    testCase2 = flowParameters(0.5, 0.2, 0.0001, 1.1, 0.05, 5, profileN = nList[i])\n",
    "\n",
    "    rs = np.linspace(1, testCase2.innerOuterRatio, 100)\n",
    "    sol = odeint(bothODE, [testCase2.relativeTipTangential, 0.0], rs, args=(testCase2,))\n",
    "\n",
    "    ax.plot(rs, sol[:,1], style[i] ,label=f\"Fpo = {i+1}\", color='black')\n",
    "\n",
    "ax.set_ylim(top=0, bottom=-6)\n",
    "ax.set_xlim(left=0.2, right=1.0)\n",
    "ax.set_xlabel(r\"$\\xi$\", fontsize=15)\n",
    "ax.set_ylabel(\"$\\^{P}$\", fontsize=15)\n",
    "ax.tick_params(axis='x', labelsize=15)\n",
    "ax.tick_params(axis='y', labelsize=15)\n",
    "ax.invert_xaxis()\n",
    "ax.legend(fontsize=15, loc=\"upper right\")"
   ]
  },
  {
   "cell_type": "code",
   "execution_count": null,
   "id": "intense-noise",
   "metadata": {},
   "outputs": [],
   "source": []
  }
 ],
 "metadata": {
  "kernelspec": {
   "display_name": "Python 3",
   "language": "python",
   "name": "python3"
  },
  "language_info": {
   "codemirror_mode": {
    "name": "ipython",
    "version": 3
   },
   "file_extension": ".py",
   "mimetype": "text/x-python",
   "name": "python",
   "nbconvert_exporter": "python",
   "pygments_lexer": "ipython3",
   "version": "3.7.9"
  }
 },
 "nbformat": 4,
 "nbformat_minor": 5
}
